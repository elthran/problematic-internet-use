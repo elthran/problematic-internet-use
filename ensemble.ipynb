{
 "cells": [
  {
   "cell_type": "markdown",
   "id": "ee8c4956",
   "metadata": {
    "papermill": {
     "duration": 0.016283,
     "end_time": "2024-09-22T01:16:09.315202",
     "exception": false,
     "start_time": "2024-09-22T01:16:09.298919",
     "status": "completed"
    },
    "tags": []
   },
   "source": [
    "# Predicting Problematic Internet Use in Children and Adolescents\n",
    "\n",
    "## Introduction\n",
    "\n",
    "The goal of this project is to develop a predictive model that analyzes children's physical activity and fitness data to identify early signs of problematic internet use. Specifically, we aim to predict the Severity Impairment Index (sii), a standard measure of problematic internet use, using various physical and behavioral features from the Healthy Brain Network (HBN) dataset.\n",
    "\n",
    "Identifying patterns of problematic internet use can help trigger interventions to encourage healthier digital habits among children and adolescents.\n",
    "\n",
    "# Exploratory Data Analysis (EDA)\n",
    "\n",
    "In this section, we will inspect, visualize, and clean the data to understand the underlying patterns and prepare it for modeling.\n",
    "\n",
    "## Importing Libraries and Setting Up Environment"
   ]
  },
  {
   "cell_type": "code",
   "execution_count": 1,
   "id": "d9d3b5a7",
   "metadata": {
    "_cell_guid": "b1076dfc-b9ad-4769-8c92-a6c4dae69d19",
    "_uuid": "8f2839f25d086af736a60e9eeb907d3b93b6e0e5",
    "execution": {
     "iopub.execute_input": "2024-09-22T01:16:09.347862Z",
     "iopub.status.busy": "2024-09-22T01:16:09.347398Z",
     "iopub.status.idle": "2024-09-22T01:16:16.807213Z",
     "shell.execute_reply": "2024-09-22T01:16:16.806127Z"
    },
    "papermill": {
     "duration": 7.479161,
     "end_time": "2024-09-22T01:16:16.810095",
     "exception": false,
     "start_time": "2024-09-22T01:16:09.330934",
     "status": "completed"
    },
    "tags": []
   },
   "outputs": [],
   "source": [
    "# Import necessary libraries\n",
    "import warnings\n",
    "from pathlib import Path\n",
    "from functools import partial\n",
    "\n",
    "import numpy as np\n",
    "import pandas as pd\n",
    "import polars as pl\n",
    "import polars.selectors as cs\n",
    "import matplotlib.pyplot as plt\n",
    "import seaborn as sns\n",
    "import torch\n",
    "import torch.nn as nn\n",
    "import torch.utils.data\n",
    "import lightgbm as lgb\n",
    "import optuna\n",
    "\n",
    "from sklearn.metrics import cohen_kappa_score\n",
    "from sklearn.model_selection import StratifiedKFold\n",
    "from sklearn.preprocessing import LabelEncoder, StandardScaler\n",
    "from lightgbm import early_stopping, log_evaluation\n",
    "\n",
    "# Suppress warnings\n",
    "warnings.filterwarnings(\"ignore\", message=\"Failed to optimize method\")\n",
    "\n",
    "# Set random seed for reproducibility\n",
    "SEED = 42\n",
    "np.random.seed(SEED)\n",
    "\n",
    "# Can be set to run on small data subset to validate code works\n",
    "IS_TEST = False"
   ]
  },
  {
   "cell_type": "markdown",
   "id": "504fc516",
   "metadata": {
    "papermill": {
     "duration": 0.014769,
     "end_time": "2024-09-22T01:16:16.840102",
     "exception": false,
     "start_time": "2024-09-22T01:16:16.825333",
     "status": "completed"
    },
    "tags": []
   },
   "source": [
    "# Loading the Data"
   ]
  },
  {
   "cell_type": "code",
   "execution_count": 2,
   "id": "e9e0ed5c",
   "metadata": {
    "execution": {
     "iopub.execute_input": "2024-09-22T01:16:16.874047Z",
     "iopub.status.busy": "2024-09-22T01:16:16.873386Z",
     "iopub.status.idle": "2024-09-22T01:16:16.977119Z",
     "shell.execute_reply": "2024-09-22T01:16:16.975855Z"
    },
    "papermill": {
     "duration": 0.124152,
     "end_time": "2024-09-22T01:16:16.980225",
     "exception": false,
     "start_time": "2024-09-22T01:16:16.856073",
     "status": "completed"
    },
    "tags": []
   },
   "outputs": [],
   "source": [
    "# Define data directory\n",
    "DATA_DIR = Path(\"data\")\n",
    "\n",
    "# Load train and test datasets\n",
    "train = pl.read_csv(DATA_DIR / \"train.csv\")\n",
    "test = pl.read_csv(DATA_DIR / \"test.csv\")"
   ]
  },
  {
   "cell_type": "markdown",
   "id": "f6dba690",
   "metadata": {
    "papermill": {
     "duration": 0.015621,
     "end_time": "2024-09-22T01:16:17.011142",
     "exception": false,
     "start_time": "2024-09-22T01:16:16.995521",
     "status": "completed"
    },
    "tags": []
   },
   "source": [
    "# Understanding the Data Structure\n",
    "\n",
    "The datasets contain various measurements from multiple instruments, including demographics, physical measures, fitness assessments, and questionnaires. The target variable is the Severity Impairment Index (sii), which is derived from the Parent-Child Internet Addiction Test (PCIAT).\n",
    "\n",
    "## Checking for Missing Values"
   ]
  },
  {
   "cell_type": "code",
   "execution_count": 3,
   "id": "354a30f9",
   "metadata": {
    "execution": {
     "iopub.execute_input": "2024-09-22T01:16:17.046255Z",
     "iopub.status.busy": "2024-09-22T01:16:17.045858Z",
     "iopub.status.idle": "2024-09-22T01:16:17.141127Z",
     "shell.execute_reply": "2024-09-22T01:16:17.139818Z"
    },
    "papermill": {
     "duration": 0.114943,
     "end_time": "2024-09-22T01:16:17.144176",
     "exception": false,
     "start_time": "2024-09-22T01:16:17.029233",
     "status": "completed"
    },
    "tags": []
   },
   "outputs": [
    {
     "name": "stdout",
     "output_type": "stream",
     "text": [
      "shape: (82, 2)\n",
      "┌─────────────────────────────────┬───────┐\n",
      "│ variable                        ┆ value │\n",
      "│ ---                             ┆ ---   │\n",
      "│ str                             ┆ u32   │\n",
      "╞═════════════════════════════════╪═══════╡\n",
      "│ null_count_PAQ_A-Season         ┆ 3485  │\n",
      "│ null_count_PAQ_A-PAQ_A_Total    ┆ 3485  │\n",
      "│ null_count_Fitness_Endurance-T… ┆ 3220  │\n",
      "│ null_count_Fitness_Endurance-T… ┆ 3220  │\n",
      "│ null_count_Fitness_Endurance-M… ┆ 3217  │\n",
      "│ …                               ┆ …     │\n",
      "│ null_count_PreInt_EduHx-Season  ┆ 420   │\n",
      "│ null_count_id                   ┆ 0     │\n",
      "│ null_count_Basic_Demos-Enroll_… ┆ 0     │\n",
      "│ null_count_Basic_Demos-Age      ┆ 0     │\n",
      "│ null_count_Basic_Demos-Sex      ┆ 0     │\n",
      "└─────────────────────────────────┴───────┘\n"
     ]
    }
   ],
   "source": [
    "# Check for missing values in the training data\n",
    "missing_values = train.select([pl.col(c).is_null().sum().alias(f\"null_count_{c}\") for c in train.columns])\n",
    "\n",
    "# Use unpivot without the 'columns' keyword\n",
    "# The first argument is the columns to unpivot, and the second argument is their values\n",
    "missing_values_unpivoted = missing_values.unpivot(missing_values.columns).sort('value', descending=True)\n",
    "\n",
    "# Display the missing values sorted by count\n",
    "print(missing_values_unpivoted)"
   ]
  },
  {
   "cell_type": "markdown",
   "id": "b7d7a400",
   "metadata": {
    "papermill": {
     "duration": 0.015006,
     "end_time": "2024-09-22T01:16:17.174656",
     "exception": false,
     "start_time": "2024-09-22T01:16:17.159650",
     "status": "completed"
    },
    "tags": []
   },
   "source": [
    "We observe that many features have missing values, which need to be addressed during data preprocessing.\n",
    "\n",
    "# Describing the Factors (Features)"
   ]
  },
  {
   "cell_type": "code",
   "execution_count": 4,
   "id": "6ba3d749",
   "metadata": {
    "execution": {
     "iopub.execute_input": "2024-09-22T01:16:17.209204Z",
     "iopub.status.busy": "2024-09-22T01:16:17.208730Z",
     "iopub.status.idle": "2024-09-22T01:16:17.218309Z",
     "shell.execute_reply": "2024-09-22T01:16:17.217063Z"
    },
    "papermill": {
     "duration": 0.028799,
     "end_time": "2024-09-22T01:16:17.220777",
     "exception": false,
     "start_time": "2024-09-22T01:16:17.191978",
     "status": "completed"
    },
    "tags": []
   },
   "outputs": [],
   "source": [
    "# List of target columns\n",
    "TARGET_COLS = [\n",
    "    \"PCIAT-PCIAT_01\", \"PCIAT-PCIAT_02\", \"PCIAT-PCIAT_03\", \"PCIAT-PCIAT_04\", \"PCIAT-PCIAT_05\",\n",
    "    \"PCIAT-PCIAT_06\", \"PCIAT-PCIAT_07\", \"PCIAT-PCIAT_08\", \"PCIAT-PCIAT_09\", \"PCIAT-PCIAT_10\",\n",
    "    \"PCIAT-PCIAT_11\", \"PCIAT-PCIAT_12\", \"PCIAT-PCIAT_13\", \"PCIAT-PCIAT_14\", \"PCIAT-PCIAT_15\",\n",
    "    \"PCIAT-PCIAT_16\", \"PCIAT-PCIAT_17\", \"PCIAT-PCIAT_18\", \"PCIAT-PCIAT_19\", \"PCIAT-PCIAT_20\",\n",
    "    \"PCIAT-PCIAT_Total\", \"sii\",\n",
    "]\n",
    "\n",
    "# List of feature columns\n",
    "FEATURE_COLS = [\n",
    "    \"Basic_Demos-Enroll_Season\", \"Basic_Demos-Age\", \"Basic_Demos-Sex\", \"CGAS-Season\",\n",
    "    \"CGAS-CGAS_Score\", \"Physical-Season\", \"Physical-BMI\", \"Physical-Height\", \"Physical-Weight\",\n",
    "    \"Physical-Waist_Circumference\", \"Physical-Diastolic_BP\", \"Physical-HeartRate\",\n",
    "    \"Physical-Systolic_BP\", \"Fitness_Endurance-Season\", \"Fitness_Endurance-Max_Stage\",\n",
    "    \"Fitness_Endurance-Time_Mins\", \"Fitness_Endurance-Time_Sec\", \"FGC-Season\", \"FGC-FGC_CU\",\n",
    "    \"FGC-FGC_CU_Zone\", \"FGC-FGC_GSND\", \"FGC-FGC_GSND_Zone\", \"FGC-FGC_GSD\", \"FGC-FGC_GSD_Zone\",\n",
    "    \"FGC-FGC_PU\", \"FGC-FGC_PU_Zone\", \"FGC-FGC_SRL\", \"FGC-FGC_SRL_Zone\", \"FGC-FGC_SRR\",\n",
    "    \"FGC-FGC_SRR_Zone\", \"FGC-FGC_TL\", \"FGC-FGC_TL_Zone\", \"BIA-Season\", \"BIA-BIA_Activity_Level_num\",\n",
    "    \"BIA-BIA_BMC\", \"BIA-BIA_BMI\", \"BIA-BIA_BMR\", \"BIA-BIA_DEE\", \"BIA-BIA_ECW\", \"BIA-BIA_FFM\",\n",
    "    \"BIA-BIA_FFMI\", \"BIA-BIA_FMI\", \"BIA-BIA_Fat\", \"BIA-BIA_Frame_num\", \"BIA-BIA_ICW\", \"BIA-BIA_LDM\",\n",
    "    \"BIA-BIA_LST\", \"BIA-BIA_SMM\", \"BIA-BIA_TBW\", \"PAQ_A-Season\", \"PAQ_A-PAQ_A_Total\",\n",
    "    \"PAQ_C-Season\", \"PAQ_C-PAQ_C_Total\", \"SDS-Season\", \"SDS-SDS_Total_Raw\", \"SDS-SDS_Total_T\",\n",
    "    \"PreInt_EduHx-Season\", \"PreInt_EduHx-computerinternet_hoursday\",\n",
    "]"
   ]
  },
  {
   "cell_type": "markdown",
   "id": "97bc433b",
   "metadata": {
    "papermill": {
     "duration": 0.014959,
     "end_time": "2024-09-22T01:16:17.251044",
     "exception": false,
     "start_time": "2024-09-22T01:16:17.236085",
     "status": "completed"
    },
    "tags": []
   },
   "source": [
    "These features encompass demographic information, physical measures, fitness assessments, bio-electric impedance analysis, physical activity questionnaires, sleep disturbance scales, and internet usage.\n",
    "\n",
    "# Visualizing Target Variable Distribution"
   ]
  },
  {
   "cell_type": "code",
   "execution_count": 5,
   "id": "9812e43c",
   "metadata": {
    "execution": {
     "iopub.execute_input": "2024-09-22T01:16:17.283494Z",
     "iopub.status.busy": "2024-09-22T01:16:17.283081Z",
     "iopub.status.idle": "2024-09-22T01:16:17.641657Z",
     "shell.execute_reply": "2024-09-22T01:16:17.640491Z"
    },
    "papermill": {
     "duration": 0.378337,
     "end_time": "2024-09-22T01:16:17.644453",
     "exception": false,
     "start_time": "2024-09-22T01:16:17.266116",
     "status": "completed"
    },
    "tags": []
   },
   "outputs": [
    {
     "data": {
      "image/png": "[encoded data removed]",
      "text/plain": [
       "<Figure size 800x600 with 1 Axes>"
      ]
     },
     "metadata": {},
     "output_type": "display_data"
    }
   ],
   "source": [
    "# Convert to pandas for visualization\n",
    "train_pd = train.select(TARGET_COLS).to_pandas()\n",
    "\n",
    "# Plot the distribution of 'sii'\n",
    "plt.figure(figsize=(8, 6))\n",
    "sns.countplot(x='sii', data=train_pd)\n",
    "plt.title('Distribution of Severity Impairment Index (sii)')\n",
    "plt.xlabel('sii')\n",
    "plt.ylabel('Count')\n",
    "plt.show()"
   ]
  },
  {
   "cell_type": "markdown",
   "id": "4f06bb23",
   "metadata": {
    "papermill": {
     "duration": 0.015408,
     "end_time": "2024-09-22T01:16:17.675790",
     "exception": false,
     "start_time": "2024-09-22T01:16:17.660382",
     "status": "completed"
    },
    "tags": []
   },
   "source": [
    "We observe that the target variable 'sii' is imbalanced, with most participants having lower severity levels.\n",
    "\n",
    "# Correlation Analysis"
   ]
  },
  {
   "cell_type": "code",
   "execution_count": 6,
   "id": "6867d1a7",
   "metadata": {
    "execution": {
     "iopub.execute_input": "2024-09-22T01:16:17.709320Z",
     "iopub.status.busy": "2024-09-22T01:16:17.708905Z",
     "iopub.status.idle": "2024-09-22T01:16:18.631307Z",
     "shell.execute_reply": "2024-09-22T01:16:18.629964Z"
    },
    "papermill": {
     "duration": 0.942459,
     "end_time": "2024-09-22T01:16:18.633989",
     "exception": false,
     "start_time": "2024-09-22T01:16:17.691530",
     "status": "completed"
    },
    "tags": []
   },
   "outputs": [
    {
     "data": {
      "image/png": "[encoded data removed]",
      "text/plain": [
       "<Figure size 1200x1000 with 2 Axes>"
      ]
     },
     "metadata": {},
     "output_type": "display_data"
    }
   ],
   "source": [
    "# Compute correlation matrix\n",
    "corr_matrix = train_pd.corr()\n",
    "\n",
    "# Plot the heatmap\n",
    "plt.figure(figsize=(12, 10))\n",
    "sns.heatmap(corr_matrix, annot=False, cmap='coolwarm')\n",
    "plt.title('Correlation Matrix of Target Variables')\n",
    "plt.show()"
   ]
  },
  {
   "cell_type": "markdown",
   "id": "71d4abad",
   "metadata": {
    "papermill": {
     "duration": 0.017419,
     "end_time": "2024-09-22T01:16:18.668740",
     "exception": false,
     "start_time": "2024-09-22T01:16:18.651321",
     "status": "completed"
    },
    "tags": []
   },
   "source": [
    "Due to the high number of target variables, the heatmap is dense. We focus on the correlations between 'PCIAT-PCIAT_Total' and 'sii'.\n",
    "\n",
    "# Handling Missing Data\n",
    "\n",
    "Given the presence of missing values, we need to decide how to handle them.\n",
    "\n",
    "* Numeric Features: We'll fill missing values with the mean of each feature.\n",
    "* Categorical Features: We'll fill missing values with a special category 'NAN'.\n",
    "\n",
    "# Data Preprocessing\n",
    "\n",
    "## Concatenating Train and Test Data"
   ]
  },
  {
   "cell_type": "code",
   "execution_count": 7,
   "id": "3f5fbac8",
   "metadata": {
    "execution": {
     "iopub.execute_input": "2024-09-22T01:16:18.704547Z",
     "iopub.status.busy": "2024-09-22T01:16:18.704095Z",
     "iopub.status.idle": "2024-09-22T01:16:18.729173Z",
     "shell.execute_reply": "2024-09-22T01:16:18.727962Z"
    },
    "papermill": {
     "duration": 0.046562,
     "end_time": "2024-09-22T01:16:18.732288",
     "exception": false,
     "start_time": "2024-09-22T01:16:18.685726",
     "status": "completed"
    },
    "tags": []
   },
   "outputs": [],
   "source": [
    "with pl.StringCache():\n",
    "    train_test = pl.concat([train, test], how=\"diagonal\")\n",
    "    train_test = train_test.with_columns(cs.string().cast(pl.Categorical).fill_null(\"NAN\"))\n",
    "\n",
    "# Split back into train and test\n",
    "train = train_test[: train.height]\n",
    "test = train_test[train.height:]"
   ]
  },
  {
   "cell_type": "markdown",
   "id": "ffe997e9",
   "metadata": {
    "papermill": {
     "duration": 0.01744,
     "end_time": "2024-09-22T01:16:18.767653",
     "exception": false,
     "start_time": "2024-09-22T01:16:18.750213",
     "status": "completed"
    },
    "tags": []
   },
   "source": [
    "## Dropping Rows with Missing Target Values"
   ]
  },
  {
   "cell_type": "code",
   "execution_count": 8,
   "id": "0c683863",
   "metadata": {
    "execution": {
     "iopub.execute_input": "2024-09-22T01:16:18.803741Z",
     "iopub.status.busy": "2024-09-22T01:16:18.803297Z",
     "iopub.status.idle": "2024-09-22T01:16:18.812584Z",
     "shell.execute_reply": "2024-09-22T01:16:18.811212Z"
    },
    "papermill": {
     "duration": 0.030436,
     "end_time": "2024-09-22T01:16:18.815251",
     "exception": false,
     "start_time": "2024-09-22T01:16:18.784815",
     "status": "completed"
    },
    "tags": []
   },
   "outputs": [],
   "source": [
    "# Drop rows where target variables are missing\n",
    "train_without_null = train.drop_nulls(subset=TARGET_COLS)"
   ]
  },
  {
   "cell_type": "markdown",
   "id": "68b550fd",
   "metadata": {
    "papermill": {
     "duration": 0.016678,
     "end_time": "2024-09-22T01:16:18.849017",
     "exception": false,
     "start_time": "2024-09-22T01:16:18.832339",
     "status": "completed"
    },
    "tags": []
   },
   "source": [
    "## Separating Features and Target Variables"
   ]
  },
  {
   "cell_type": "code",
   "execution_count": 9,
   "id": "abb176f0",
   "metadata": {
    "execution": {
     "iopub.execute_input": "2024-09-22T01:16:18.885810Z",
     "iopub.status.busy": "2024-09-22T01:16:18.884760Z",
     "iopub.status.idle": "2024-09-22T01:16:18.892275Z",
     "shell.execute_reply": "2024-09-22T01:16:18.891144Z"
    },
    "papermill": {
     "duration": 0.028812,
     "end_time": "2024-09-22T01:16:18.894566",
     "exception": false,
     "start_time": "2024-09-22T01:16:18.865754",
     "status": "completed"
    },
    "tags": []
   },
   "outputs": [],
   "source": [
    "# Select features and target variables\n",
    "X = train_without_null.select(FEATURE_COLS)\n",
    "X_test = test.select(FEATURE_COLS)\n",
    "y = train_without_null.select(TARGET_COLS)"
   ]
  },
  {
   "cell_type": "markdown",
   "id": "30ee5d53",
   "metadata": {
    "papermill": {
     "duration": 0.016575,
     "end_time": "2024-09-22T01:16:18.928264",
     "exception": false,
     "start_time": "2024-09-22T01:16:18.911689",
     "status": "completed"
    },
    "tags": []
   },
   "source": [
    "## Converting to Pandas DataFrames"
   ]
  },
  {
   "cell_type": "code",
   "execution_count": 10,
   "id": "94bfa70c",
   "metadata": {
    "execution": {
     "iopub.execute_input": "2024-09-22T01:16:18.964024Z",
     "iopub.status.busy": "2024-09-22T01:16:18.963238Z",
     "iopub.status.idle": "2024-09-22T01:16:18.990177Z",
     "shell.execute_reply": "2024-09-22T01:16:18.988946Z"
    },
    "papermill": {
     "duration": 0.047863,
     "end_time": "2024-09-22T01:16:18.992921",
     "exception": false,
     "start_time": "2024-09-22T01:16:18.945058",
     "status": "completed"
    },
    "tags": []
   },
   "outputs": [],
   "source": [
    "# Convert to pandas for compatibility with scikit-learn and PyTorch\n",
    "X = X.to_pandas()\n",
    "X_test = X_test.to_pandas()\n",
    "y = y.to_pandas()"
   ]
  },
  {
   "cell_type": "markdown",
   "id": "be687acf",
   "metadata": {
    "papermill": {
     "duration": 0.01681,
     "end_time": "2024-09-22T01:16:19.026918",
     "exception": false,
     "start_time": "2024-09-22T01:16:19.010108",
     "status": "completed"
    },
    "tags": []
   },
   "source": [
    "## Handling Missing Values"
   ]
  },
  {
   "cell_type": "code",
   "execution_count": 11,
   "id": "04dd37e3",
   "metadata": {
    "execution": {
     "iopub.execute_input": "2024-09-22T01:16:19.062924Z",
     "iopub.status.busy": "2024-09-22T01:16:19.062458Z",
     "iopub.status.idle": "2024-09-22T01:16:19.120657Z",
     "shell.execute_reply": "2024-09-22T01:16:19.119438Z"
    },
    "papermill": {
     "duration": 0.079678,
     "end_time": "2024-09-22T01:16:19.123666",
     "exception": false,
     "start_time": "2024-09-22T01:16:19.043988",
     "status": "completed"
    },
    "tags": []
   },
   "outputs": [],
   "source": [
    "# Identify numerical features\n",
    "num_features = X.select_dtypes(include=[np.number]).columns.tolist()\n",
    "\n",
    "# Fill missing numerical values with mean\n",
    "X[num_features] = X[num_features].fillna(X[num_features].mean())\n",
    "X_test[num_features] = X_test[num_features].fillna(X_test[num_features].mean())"
   ]
  },
  {
   "cell_type": "markdown",
   "id": "1d622164",
   "metadata": {
    "papermill": {
     "duration": 0.016578,
     "end_time": "2024-09-22T01:16:19.159810",
     "exception": false,
     "start_time": "2024-09-22T01:16:19.143232",
     "status": "completed"
    },
    "tags": []
   },
   "source": [
    "## Encoding Categorical Features"
   ]
  },
  {
   "cell_type": "code",
   "execution_count": 12,
   "id": "9b949c15",
   "metadata": {
    "execution": {
     "iopub.execute_input": "2024-09-22T01:16:19.197195Z",
     "iopub.status.busy": "2024-09-22T01:16:19.196688Z",
     "iopub.status.idle": "2024-09-22T01:16:19.256503Z",
     "shell.execute_reply": "2024-09-22T01:16:19.255307Z"
    },
    "papermill": {
     "duration": 0.08231,
     "end_time": "2024-09-22T01:16:19.259360",
     "exception": false,
     "start_time": "2024-09-22T01:16:19.177050",
     "status": "completed"
    },
    "tags": []
   },
   "outputs": [],
   "source": [
    "# Identify categorical features\n",
    "cat_features = [col for col in FEATURE_COLS if col not in num_features]\n",
    "\n",
    "# Fill missing categorical values and encode\n",
    "label_encoders = {}\n",
    "for col in cat_features:\n",
    "    X[col] = X[col].astype(\"category\")\n",
    "    X_test[col] = X_test[col].astype(\"category\")\n",
    "\n",
    "    # Add 'NAN' category if not present\n",
    "    if \"NAN\" not in X[col].cat.categories:\n",
    "        X[col] = X[col].cat.add_categories(\"NAN\")\n",
    "    if \"NAN\" not in X_test[col].cat.categories:\n",
    "        X_test[col] = X_test[col].cat.add_categories(\"NAN\")\n",
    "\n",
    "    X[col] = X[col].fillna(\"NAN\")\n",
    "    X_test[col] = X_test[col].fillna(\"NAN\")\n",
    "\n",
    "    # Label encoding\n",
    "    le = LabelEncoder()\n",
    "    le.fit(pd.concat([X[col], X_test[col]], axis=0).astype(str))\n",
    "    X[col] = le.transform(X[col].astype(str))\n",
    "    X_test[col] = le.transform(X_test[col].astype(str))\n",
    "    label_encoders[col] = le"
   ]
  },
  {
   "cell_type": "markdown",
   "id": "631755d1",
   "metadata": {
    "papermill": {
     "duration": 0.01691,
     "end_time": "2024-09-22T01:16:19.293355",
     "exception": false,
     "start_time": "2024-09-22T01:16:19.276445",
     "status": "completed"
    },
    "tags": []
   },
   "source": [
    "## Feature Scaling"
   ]
  },
  {
   "cell_type": "code",
   "execution_count": 13,
   "id": "c555f7ba",
   "metadata": {
    "execution": {
     "iopub.execute_input": "2024-09-22T01:16:19.329152Z",
     "iopub.status.busy": "2024-09-22T01:16:19.328733Z",
     "iopub.status.idle": "2024-09-22T01:16:19.368520Z",
     "shell.execute_reply": "2024-09-22T01:16:19.367554Z"
    },
    "papermill": {
     "duration": 0.061155,
     "end_time": "2024-09-22T01:16:19.371288",
     "exception": false,
     "start_time": "2024-09-22T01:16:19.310133",
     "status": "completed"
    },
    "tags": []
   },
   "outputs": [],
   "source": [
    "# Standardize numerical features\n",
    "scaler = StandardScaler()\n",
    "scaler.fit(pd.concat([X[num_features], X_test[num_features]], axis=0))\n",
    "X[num_features] = scaler.transform(X[num_features])\n",
    "X_test[num_features] = scaler.transform(X_test[num_features])"
   ]
  },
  {
   "cell_type": "markdown",
   "id": "b956a5d9",
   "metadata": {
    "papermill": {
     "duration": 0.016838,
     "end_time": "2024-09-22T01:16:19.406904",
     "exception": false,
     "start_time": "2024-09-22T01:16:19.390066",
     "status": "completed"
    },
    "tags": []
   },
   "source": [
    "## Converting to NumPy Arrays"
   ]
  },
  {
   "cell_type": "code",
   "execution_count": 14,
   "id": "7e24f849",
   "metadata": {
    "execution": {
     "iopub.execute_input": "2024-09-22T01:16:19.443356Z",
     "iopub.status.busy": "2024-09-22T01:16:19.442915Z",
     "iopub.status.idle": "2024-09-22T01:16:19.450287Z",
     "shell.execute_reply": "2024-09-22T01:16:19.449164Z"
    },
    "papermill": {
     "duration": 0.028717,
     "end_time": "2024-09-22T01:16:19.452852",
     "exception": false,
     "start_time": "2024-09-22T01:16:19.424135",
     "status": "completed"
    },
    "tags": []
   },
   "outputs": [],
   "source": [
    "# Convert to NumPy arrays\n",
    "X_np = X.values\n",
    "X_test_np = X_test.values\n",
    "y_np = y.values"
   ]
  },
  {
   "cell_type": "markdown",
   "id": "be1034d7",
   "metadata": {
    "papermill": {
     "duration": 0.016754,
     "end_time": "2024-09-22T01:16:19.487538",
     "exception": false,
     "start_time": "2024-09-22T01:16:19.470784",
     "status": "completed"
    },
    "tags": []
   },
   "source": [
    "# Modeling\n",
    "\n",
    "We will use a combination of a neural network and a LightGBM model to predict the target variable 'sii'. By combining both models, we aim to leverage the strengths of each and improve overall performance.\n",
    "\n",
    "## Neural Network Model\n",
    "\n",
    "### Defining the Dataset Class"
   ]
  },
  {
   "cell_type": "code",
   "execution_count": 15,
   "id": "42d216f9",
   "metadata": {
    "execution": {
     "iopub.execute_input": "2024-09-22T01:16:19.523629Z",
     "iopub.status.busy": "2024-09-22T01:16:19.522655Z",
     "iopub.status.idle": "2024-09-22T01:16:19.532682Z",
     "shell.execute_reply": "2024-09-22T01:16:19.531440Z"
    },
    "papermill": {
     "duration": 0.031353,
     "end_time": "2024-09-22T01:16:19.535654",
     "exception": false,
     "start_time": "2024-09-22T01:16:19.504301",
     "status": "completed"
    },
    "tags": []
   },
   "outputs": [],
   "source": [
    "class TabularDataset(torch.utils.data.Dataset):\n",
    "    \"\"\"\n",
    "    Dataset for handling tabular data, separating categorical and numerical features.\n",
    "    \"\"\"\n",
    "\n",
    "    def __init__(self, X_categorical, X_numerical, y=None):\n",
    "        self.X_categorical = torch.tensor(X_categorical, dtype=torch.long)\n",
    "        self.X_numerical = torch.tensor(X_numerical, dtype=torch.float32)\n",
    "        self.y = torch.tensor(y, dtype=torch.float32) if y is not None else None\n",
    "\n",
    "    def __len__(self):\n",
    "        return len(self.X_categorical)\n",
    "\n",
    "    def __getitem__(self, idx):\n",
    "        if self.y is not None:\n",
    "            return self.X_categorical[idx], self.X_numerical[idx], self.y[idx]\n",
    "        else:\n",
    "            return self.X_categorical[idx], self.X_numerical[idx]"
   ]
  },
  {
   "cell_type": "markdown",
   "id": "bb45eac0",
   "metadata": {
    "papermill": {
     "duration": 0.017155,
     "end_time": "2024-09-22T01:16:19.570299",
     "exception": false,
     "start_time": "2024-09-22T01:16:19.553144",
     "status": "completed"
    },
    "tags": []
   },
   "source": [
    "### Defining the Neural Network Architecture"
   ]
  },
  {
   "cell_type": "code",
   "execution_count": 16,
   "id": "cf94e3e2",
   "metadata": {
    "execution": {
     "iopub.execute_input": "2024-09-22T01:16:19.606822Z",
     "iopub.status.busy": "2024-09-22T01:16:19.606372Z",
     "iopub.status.idle": "2024-09-22T01:16:19.618417Z",
     "shell.execute_reply": "2024-09-22T01:16:19.617223Z"
    },
    "papermill": {
     "duration": 0.033253,
     "end_time": "2024-09-22T01:16:19.620984",
     "exception": false,
     "start_time": "2024-09-22T01:16:19.587731",
     "status": "completed"
    },
    "tags": []
   },
   "outputs": [],
   "source": [
    "class MultiTargetRegressionModel(nn.Module):\n",
    "    \"\"\"\n",
    "    Neural network model for multi-target regression using embeddings for categorical features\n",
    "    and fully connected layers for regression.\n",
    "    \"\"\"\n",
    "\n",
    "    def __init__(self, embedding_sizes, num_numerical_features, output_size):\n",
    "        super(MultiTargetRegressionModel, self).__init__()\n",
    "        self.embeddings = nn.ModuleList(\n",
    "            [nn.Embedding(num_embeddings=categories, embedding_dim=size) for categories, size in embedding_sizes]\n",
    "        )\n",
    "        self.embedding_output_size = sum([size for _, size in embedding_sizes])\n",
    "        self.fc1 = nn.Linear(self.embedding_output_size + num_numerical_features, 128)\n",
    "        self.fc2 = nn.Linear(128, 64)\n",
    "        self.output = nn.Linear(64, output_size)\n",
    "        self.dropout = nn.Dropout(0.1)\n",
    "        self.relu = nn.ReLU()\n",
    "\n",
    "    def forward(self, x_categorical, x_numerical):\n",
    "        x = [emb(x_categorical[:, i]) for i, emb in enumerate(self.embeddings)]\n",
    "        x = torch.cat(x, 1)\n",
    "        x = torch.cat([x, x_numerical], 1)\n",
    "        x = self.dropout(self.relu(self.fc1(x)))\n",
    "        x = self.dropout(self.relu(self.fc2(x)))\n",
    "        x = self.output(x)\n",
    "        return x\n"
   ]
  },
  {
   "cell_type": "markdown",
   "id": "3a73d4a1",
   "metadata": {
    "papermill": {
     "duration": 0.017005,
     "end_time": "2024-09-22T01:16:19.655315",
     "exception": false,
     "start_time": "2024-09-22T01:16:19.638310",
     "status": "completed"
    },
    "tags": []
   },
   "source": [
    "## Model Explanation:\n",
    "\n",
    "* Embeddings for Categorical Features: We use embedding layers to represent categorical features in a dense vector space.\n",
    "* Fully Connected Layers: After combining embeddings with numerical features, we pass them through fully connected layers.\n",
    "* Output Layer: # Prepare embeddings\n",
    "embedding_sizes = []\n",
    "for col in cat_features:\n",
    "    num_categories = len(label_encoders[col].classes_)\n",
    "    embedding_size = min(50, (num_categories + 1) // 2)\n",
    "    embedding_sizes.append((num_categories, embedding_size))\n",
    "\n",
    "num_numerical_features = len(num_features)\n",
    "output_size = len(TARGET_COLS)\n",
    "The model outputs predictions for all target variables.\n",
    "\n",
    "## Preparing the Data for the Neural Network"
   ]
  },
  {
   "cell_type": "code",
   "execution_count": 17,
   "id": "ab39041d",
   "metadata": {
    "execution": {
     "iopub.execute_input": "2024-09-22T01:16:19.692042Z",
     "iopub.status.busy": "2024-09-22T01:16:19.691540Z",
     "iopub.status.idle": "2024-09-22T01:16:19.698548Z",
     "shell.execute_reply": "2024-09-22T01:16:19.697372Z"
    },
    "papermill": {
     "duration": 0.028872,
     "end_time": "2024-09-22T01:16:19.701235",
     "exception": false,
     "start_time": "2024-09-22T01:16:19.672363",
     "status": "completed"
    },
    "tags": []
   },
   "outputs": [],
   "source": [
    "# Prepare embeddings\n",
    "embedding_sizes = []\n",
    "for col in cat_features:\n",
    "    num_categories = len(label_encoders[col].classes_)\n",
    "    embedding_size = min(50, (num_categories + 1) // 2)\n",
    "    embedding_sizes.append((num_categories, embedding_size))\n",
    "\n",
    "num_numerical_features = len(num_features)\n",
    "output_size = len(TARGET_COLS)"
   ]
  },
  {
   "cell_type": "markdown",
   "id": "0e109a10",
   "metadata": {
    "papermill": {
     "duration": 0.016682,
     "end_time": "2024-09-22T01:16:19.735226",
     "exception": false,
     "start_time": "2024-09-22T01:16:19.718544",
     "status": "completed"
    },
    "tags": []
   },
   "source": [
    "## Splitting the Data for Cross-Validation"
   ]
  },
  {
   "cell_type": "code",
   "execution_count": 18,
   "id": "11509ff9",
   "metadata": {
    "execution": {
     "iopub.execute_input": "2024-09-22T01:16:19.822503Z",
     "iopub.status.busy": "2024-09-22T01:16:19.821515Z",
     "iopub.status.idle": "2024-09-22T01:16:19.828988Z",
     "shell.execute_reply": "2024-09-22T01:16:19.827726Z"
    },
    "papermill": {
     "duration": 0.079094,
     "end_time": "2024-09-22T01:16:19.831483",
     "exception": false,
     "start_time": "2024-09-22T01:16:19.752389",
     "status": "completed"
    },
    "tags": []
   },
   "outputs": [],
   "source": [
    "# Define target variables for stratification\n",
    "y_sii = y[\"sii\"].to_numpy()\n",
    "y_total = y[\"PCIAT-PCIAT_Total\"].to_numpy()\n",
    "\n",
    "# Stratified K-Fold Cross-Validation\n",
    "skf = StratifiedKFold(n_splits=5, shuffle=True, random_state=SEED)\n",
    "models = []\n",
    "y_pred = np.full((X.shape[0], len(TARGET_COLS)), fill_value=np.nan)"
   ]
  },
  {
   "cell_type": "markdown",
   "id": "1203158f",
   "metadata": {
    "papermill": {
     "duration": 0.016712,
     "end_time": "2024-09-22T01:16:19.865212",
     "exception": false,
     "start_time": "2024-09-22T01:16:19.848500",
     "status": "completed"
    },
    "tags": []
   },
   "source": [
    "## Training the Neural Network"
   ]
  },
  {
   "cell_type": "code",
   "execution_count": 19,
   "id": "f8d0f97f",
   "metadata": {
    "execution": {
     "iopub.execute_input": "2024-09-22T01:16:19.902287Z",
     "iopub.status.busy": "2024-09-22T01:16:19.901882Z",
     "iopub.status.idle": "2024-09-22T01:16:36.495511Z",
     "shell.execute_reply": "2024-09-22T01:16:36.494049Z"
    },
    "papermill": {
     "duration": 16.615938,
     "end_time": "2024-09-22T01:16:36.498215",
     "exception": false,
     "start_time": "2024-09-22T01:16:19.882277",
     "status": "completed"
    },
    "tags": []
   },
   "outputs": [
    {
     "name": "stdout",
     "output_type": "stream",
     "text": [
      "Fold 1\n",
      "Epoch 1/100, Train Loss: 55.6511, Val Loss: 51.3506\n",
      "Epoch 2/100, Train Loss: 52.6686, Val Loss: 47.1105\n",
      "Epoch 3/100, Train Loss: 47.3656, Val Loss: 40.3941\n",
      "Epoch 4/100, Train Loss: 39.6737, Val Loss: 31.8910\n",
      "Epoch 5/100, Train Loss: 29.5584, Val Loss: 22.1352\n",
      "Epoch 6/100, Train Loss: 20.7115, Val Loss: 16.9550\n",
      "Epoch 7/100, Train Loss: 17.9763, Val Loss: 16.9521\n",
      "Epoch 8/100, Train Loss: 17.2828, Val Loss: 16.0264\n",
      "Epoch 9/100, Train Loss: 16.4365, Val Loss: 15.9805\n",
      "Epoch 10/100, Train Loss: 16.2498, Val Loss: 15.7547\n",
      "Epoch 11/100, Train Loss: 16.1956, Val Loss: 15.5650\n",
      "Epoch 12/100, Train Loss: 15.9764, Val Loss: 15.4448\n",
      "Epoch 13/100, Train Loss: 15.5614, Val Loss: 15.3403\n",
      "Epoch 14/100, Train Loss: 15.6915, Val Loss: 15.3212\n",
      "Epoch 15/100, Train Loss: 15.4532, Val Loss: 15.2706\n",
      "Epoch 16/100, Train Loss: 15.0078, Val Loss: 15.1908\n",
      "Epoch 17/100, Train Loss: 14.8204, Val Loss: 15.2107\n",
      "Epoch 18/100, Train Loss: 15.0247, Val Loss: 15.1694\n",
      "Epoch 19/100, Train Loss: 14.6992, Val Loss: 15.1433\n",
      "Epoch 20/100, Train Loss: 14.9359, Val Loss: 15.1126\n",
      "Epoch 21/100, Train Loss: 14.8827, Val Loss: 15.1166\n",
      "Epoch 22/100, Train Loss: 14.7186, Val Loss: 15.0511\n",
      "Epoch 23/100, Train Loss: 14.3853, Val Loss: 15.0212\n",
      "Epoch 24/100, Train Loss: 14.3996, Val Loss: 15.0162\n",
      "Epoch 25/100, Train Loss: 14.5571, Val Loss: 15.0354\n",
      "Epoch 26/100, Train Loss: 14.3787, Val Loss: 15.0030\n",
      "Epoch 27/100, Train Loss: 14.3636, Val Loss: 15.0228\n",
      "Epoch 28/100, Train Loss: 14.3482, Val Loss: 15.0395\n",
      "Epoch 29/100, Train Loss: 14.2388, Val Loss: 15.0636\n",
      "Epoch 30/100, Train Loss: 13.9105, Val Loss: 15.0039\n",
      "Epoch 31/100, Train Loss: 13.8694, Val Loss: 14.9738\n",
      "Epoch 32/100, Train Loss: 13.7048, Val Loss: 15.0030\n",
      "Epoch 33/100, Train Loss: 13.6960, Val Loss: 14.9975\n",
      "Epoch 34/100, Train Loss: 13.8213, Val Loss: 14.9672\n",
      "Epoch 35/100, Train Loss: 14.0815, Val Loss: 14.9701\n",
      "Epoch 36/100, Train Loss: 13.8500, Val Loss: 15.0284\n",
      "Epoch 37/100, Train Loss: 13.5940, Val Loss: 15.0463\n",
      "Epoch 38/100, Train Loss: 13.5817, Val Loss: 15.0080\n",
      "Epoch 39/100, Train Loss: 13.4970, Val Loss: 15.0373\n",
      "Epoch 40/100, Train Loss: 13.6444, Val Loss: 15.0366\n",
      "Epoch 41/100, Train Loss: 13.2707, Val Loss: 15.0429\n",
      "Epoch 42/100, Train Loss: 13.1998, Val Loss: 15.0028\n",
      "Epoch 43/100, Train Loss: 13.3404, Val Loss: 15.0495\n",
      "Epoch 44/100, Train Loss: 13.0400, Val Loss: 15.0491\n",
      "Early stopping\n",
      "Fold 2\n",
      "Epoch 1/100, Train Loss: 57.3012, Val Loss: 59.4385\n",
      "Epoch 2/100, Train Loss: 53.6552, Val Loss: 55.1775\n",
      "Epoch 3/100, Train Loss: 48.8145, Val Loss: 48.5085\n",
      "Epoch 4/100, Train Loss: 41.9003, Val Loss: 39.8501\n",
      "Epoch 5/100, Train Loss: 33.1590, Val Loss: 28.3877\n",
      "Epoch 6/100, Train Loss: 23.3995, Val Loss: 19.1871\n",
      "Epoch 7/100, Train Loss: 19.1304, Val Loss: 18.3988\n",
      "Epoch 8/100, Train Loss: 18.2627, Val Loss: 17.1100\n",
      "Epoch 9/100, Train Loss: 17.4008, Val Loss: 16.8150\n",
      "Epoch 10/100, Train Loss: 17.3720, Val Loss: 16.4131\n",
      "Epoch 11/100, Train Loss: 16.7757, Val Loss: 16.1343\n",
      "Epoch 12/100, Train Loss: 16.2016, Val Loss: 15.9518\n",
      "Epoch 13/100, Train Loss: 16.3473, Val Loss: 15.7745\n",
      "Epoch 14/100, Train Loss: 16.2154, Val Loss: 15.6263\n",
      "Epoch 15/100, Train Loss: 16.0025, Val Loss: 15.6062\n",
      "Epoch 16/100, Train Loss: 15.6699, Val Loss: 15.5289\n",
      "Epoch 17/100, Train Loss: 15.7777, Val Loss: 15.3707\n",
      "Epoch 18/100, Train Loss: 15.9913, Val Loss: 15.4018\n",
      "Epoch 19/100, Train Loss: 15.8161, Val Loss: 15.4055\n",
      "Epoch 20/100, Train Loss: 15.4692, Val Loss: 15.3969\n",
      "Epoch 21/100, Train Loss: 15.4932, Val Loss: 15.3038\n",
      "Epoch 22/100, Train Loss: 15.1175, Val Loss: 15.2877\n",
      "Epoch 23/100, Train Loss: 15.5480, Val Loss: 15.1983\n",
      "Epoch 24/100, Train Loss: 15.5629, Val Loss: 15.1715\n",
      "Epoch 25/100, Train Loss: 15.4364, Val Loss: 15.2105\n",
      "Epoch 26/100, Train Loss: 15.1341, Val Loss: 15.1799\n",
      "Epoch 27/100, Train Loss: 14.9797, Val Loss: 15.1230\n",
      "Epoch 28/100, Train Loss: 15.1459, Val Loss: 15.0768\n",
      "Epoch 29/100, Train Loss: 14.8202, Val Loss: 15.1235\n",
      "Epoch 30/100, Train Loss: 14.9846, Val Loss: 15.1751\n",
      "Epoch 31/100, Train Loss: 14.8412, Val Loss: 15.1046\n",
      "Epoch 32/100, Train Loss: 15.0187, Val Loss: 15.1062\n",
      "Epoch 33/100, Train Loss: 14.9958, Val Loss: 14.9465\n",
      "Epoch 34/100, Train Loss: 14.6774, Val Loss: 15.0627\n",
      "Epoch 35/100, Train Loss: 14.6039, Val Loss: 15.0281\n",
      "Epoch 36/100, Train Loss: 14.7603, Val Loss: 14.9548\n",
      "Epoch 37/100, Train Loss: 14.3967, Val Loss: 14.9085\n",
      "Epoch 38/100, Train Loss: 14.5273, Val Loss: 14.9425\n",
      "Epoch 39/100, Train Loss: 14.2422, Val Loss: 14.9391\n",
      "Epoch 40/100, Train Loss: 14.5995, Val Loss: 14.9409\n",
      "Epoch 41/100, Train Loss: 14.3748, Val Loss: 14.8828\n",
      "Epoch 42/100, Train Loss: 13.9992, Val Loss: 14.8702\n",
      "Epoch 43/100, Train Loss: 14.3067, Val Loss: 14.8220\n",
      "Epoch 44/100, Train Loss: 14.4464, Val Loss: 14.9269\n",
      "Epoch 45/100, Train Loss: 14.0402, Val Loss: 15.0115\n",
      "Epoch 46/100, Train Loss: 14.1888, Val Loss: 14.9407\n",
      "Epoch 47/100, Train Loss: 13.8332, Val Loss: 14.7642\n",
      "Epoch 48/100, Train Loss: 13.5901, Val Loss: 14.7402\n",
      "Epoch 49/100, Train Loss: 13.9351, Val Loss: 14.8086\n",
      "Epoch 50/100, Train Loss: 13.6769, Val Loss: 14.8046\n",
      "Epoch 51/100, Train Loss: 13.8470, Val Loss: 14.7866\n",
      "Epoch 52/100, Train Loss: 13.6324, Val Loss: 14.6588\n",
      "Epoch 53/100, Train Loss: 13.7918, Val Loss: 14.7056\n",
      "Epoch 54/100, Train Loss: 13.8353, Val Loss: 14.7388\n",
      "Epoch 55/100, Train Loss: 13.3616, Val Loss: 14.7019\n",
      "Epoch 56/100, Train Loss: 13.2442, Val Loss: 14.7718\n",
      "Epoch 57/100, Train Loss: 13.3660, Val Loss: 14.8264\n",
      "Epoch 58/100, Train Loss: 13.3117, Val Loss: 14.7878\n",
      "Epoch 59/100, Train Loss: 13.1553, Val Loss: 14.8214\n",
      "Epoch 60/100, Train Loss: 13.4000, Val Loss: 14.8897\n",
      "Epoch 61/100, Train Loss: 13.1659, Val Loss: 14.8162\n",
      "Epoch 62/100, Train Loss: 13.0366, Val Loss: 14.8512\n",
      "Early stopping\n",
      "Fold 3\n",
      "Epoch 1/100, Train Loss: 57.6358, Val Loss: 51.6353\n",
      "Epoch 2/100, Train Loss: 54.7763, Val Loss: 48.3590\n",
      "Epoch 3/100, Train Loss: 49.1900, Val Loss: 43.0226\n",
      "Epoch 4/100, Train Loss: 42.1428, Val Loss: 36.1547\n",
      "Epoch 5/100, Train Loss: 33.4975, Val Loss: 26.7467\n",
      "Epoch 6/100, Train Loss: 24.0143, Val Loss: 19.7485\n",
      "Epoch 7/100, Train Loss: 19.3019, Val Loss: 20.1323\n",
      "Epoch 8/100, Train Loss: 18.9237, Val Loss: 18.3895\n",
      "Epoch 9/100, Train Loss: 17.3964, Val Loss: 17.4625\n",
      "Epoch 10/100, Train Loss: 16.8854, Val Loss: 16.8497\n",
      "Epoch 11/100, Train Loss: 16.7260, Val Loss: 16.7127\n",
      "Epoch 12/100, Train Loss: 16.6425, Val Loss: 16.5956\n",
      "Epoch 13/100, Train Loss: 16.9280, Val Loss: 16.2962\n",
      "Epoch 14/100, Train Loss: 16.0122, Val Loss: 16.2082\n",
      "Epoch 15/100, Train Loss: 15.6226, Val Loss: 16.5540\n",
      "Epoch 16/100, Train Loss: 15.6724, Val Loss: 16.5931\n",
      "Epoch 17/100, Train Loss: 15.5047, Val Loss: 16.6340\n",
      "Epoch 18/100, Train Loss: 15.3148, Val Loss: 16.6438\n",
      "Epoch 19/100, Train Loss: 15.2725, Val Loss: 16.7702\n",
      "Epoch 20/100, Train Loss: 15.2828, Val Loss: 16.7318\n",
      "Epoch 21/100, Train Loss: 14.9846, Val Loss: 16.4944\n",
      "Epoch 22/100, Train Loss: 15.1284, Val Loss: 16.6507\n",
      "Epoch 23/100, Train Loss: 14.6985, Val Loss: 16.9950\n",
      "Epoch 24/100, Train Loss: 14.8567, Val Loss: 17.1641\n",
      "Early stopping\n",
      "Fold 4\n",
      "Epoch 1/100, Train Loss: 56.3799, Val Loss: 50.5362\n",
      "Epoch 2/100, Train Loss: 54.3991, Val Loss: 47.1198\n",
      "Epoch 3/100, Train Loss: 49.8304, Val Loss: 41.8750\n",
      "Epoch 4/100, Train Loss: 43.9481, Val Loss: 35.2034\n",
      "Epoch 5/100, Train Loss: 34.7742, Val Loss: 26.2276\n",
      "Epoch 6/100, Train Loss: 25.2615, Val Loss: 18.0012\n",
      "Epoch 7/100, Train Loss: 19.1376, Val Loss: 16.3817\n",
      "Epoch 8/100, Train Loss: 18.5038, Val Loss: 16.0396\n",
      "Epoch 9/100, Train Loss: 17.4782, Val Loss: 14.6571\n",
      "Epoch 10/100, Train Loss: 16.9528, Val Loss: 14.2816\n",
      "Epoch 11/100, Train Loss: 16.3261, Val Loss: 14.1025\n",
      "Epoch 12/100, Train Loss: 15.9819, Val Loss: 14.1025\n",
      "Epoch 13/100, Train Loss: 15.9574, Val Loss: 13.9070\n",
      "Epoch 14/100, Train Loss: 15.5660, Val Loss: 13.8111\n",
      "Epoch 15/100, Train Loss: 15.6265, Val Loss: 13.7086\n",
      "Epoch 16/100, Train Loss: 15.2936, Val Loss: 13.7690\n",
      "Epoch 17/100, Train Loss: 15.2827, Val Loss: 13.7313\n",
      "Epoch 18/100, Train Loss: 15.2202, Val Loss: 13.7180\n",
      "Epoch 19/100, Train Loss: 14.6794, Val Loss: 13.6480\n",
      "Epoch 20/100, Train Loss: 14.9858, Val Loss: 13.6083\n",
      "Epoch 21/100, Train Loss: 14.9991, Val Loss: 13.6694\n",
      "Epoch 22/100, Train Loss: 15.0259, Val Loss: 13.6088\n",
      "Epoch 23/100, Train Loss: 14.4777, Val Loss: 13.5870\n",
      "Epoch 24/100, Train Loss: 14.7198, Val Loss: 13.6038\n",
      "Epoch 25/100, Train Loss: 14.5641, Val Loss: 13.6780\n",
      "Epoch 26/100, Train Loss: 14.5038, Val Loss: 13.5532\n",
      "Epoch 27/100, Train Loss: 14.3268, Val Loss: 13.4585\n",
      "Epoch 28/100, Train Loss: 14.3303, Val Loss: 13.5179\n",
      "Epoch 29/100, Train Loss: 14.1991, Val Loss: 13.5317\n",
      "Epoch 30/100, Train Loss: 14.4857, Val Loss: 13.6080\n",
      "Epoch 31/100, Train Loss: 13.7665, Val Loss: 13.5508\n",
      "Epoch 32/100, Train Loss: 14.0484, Val Loss: 13.5541\n",
      "Epoch 33/100, Train Loss: 13.9156, Val Loss: 13.6235\n",
      "Epoch 34/100, Train Loss: 13.9702, Val Loss: 13.6301\n",
      "Epoch 35/100, Train Loss: 14.1062, Val Loss: 13.6587\n",
      "Epoch 36/100, Train Loss: 13.7031, Val Loss: 13.7723\n",
      "Epoch 37/100, Train Loss: 13.7624, Val Loss: 13.7005\n",
      "Early stopping\n",
      "Fold 5\n",
      "Epoch 1/100, Train Loss: 57.7521, Val Loss: 55.1382\n",
      "Epoch 2/100, Train Loss: 53.8109, Val Loss: 51.0087\n",
      "Epoch 3/100, Train Loss: 47.5811, Val Loss: 44.0206\n",
      "Epoch 4/100, Train Loss: 39.6633, Val Loss: 35.1571\n",
      "Epoch 5/100, Train Loss: 30.6314, Val Loss: 24.9218\n",
      "Epoch 6/100, Train Loss: 21.3371, Val Loss: 17.9920\n",
      "Epoch 7/100, Train Loss: 17.9618, Val Loss: 17.7540\n",
      "Epoch 8/100, Train Loss: 17.5191, Val Loss: 16.9500\n",
      "Epoch 9/100, Train Loss: 16.5808, Val Loss: 17.0165\n",
      "Epoch 10/100, Train Loss: 16.3147, Val Loss: 16.8385\n",
      "Epoch 11/100, Train Loss: 16.1189, Val Loss: 16.6079\n",
      "Epoch 12/100, Train Loss: 15.5277, Val Loss: 16.4830\n",
      "Epoch 13/100, Train Loss: 15.3141, Val Loss: 16.4685\n",
      "Epoch 14/100, Train Loss: 15.0380, Val Loss: 16.4910\n",
      "Epoch 15/100, Train Loss: 15.2621, Val Loss: 16.4936\n",
      "Epoch 16/100, Train Loss: 15.4449, Val Loss: 16.5389\n",
      "Epoch 17/100, Train Loss: 14.9132, Val Loss: 16.5269\n",
      "Epoch 18/100, Train Loss: 14.7949, Val Loss: 16.5052\n",
      "Epoch 19/100, Train Loss: 14.9370, Val Loss: 16.4996\n",
      "Epoch 20/100, Train Loss: 14.7163, Val Loss: 16.5077\n",
      "Epoch 21/100, Train Loss: 14.8190, Val Loss: 16.5271\n",
      "Epoch 22/100, Train Loss: 14.6513, Val Loss: 16.5973\n",
      "Epoch 23/100, Train Loss: 14.7259, Val Loss: 16.5838\n",
      "Early stopping\n"
     ]
    }
   ],
   "source": [
    "device = torch.device(\"cuda\" if torch.cuda.is_available() else \"cpu\")\n",
    "\n",
    "for fold, (train_idx, val_idx) in enumerate(skf.split(X, y_sii)):\n",
    "    print(f\"Fold {fold + 1}\")\n",
    "    X_train, X_val = X.iloc[train_idx], X.iloc[val_idx]\n",
    "    y_train, y_val = y.iloc[train_idx], y.iloc[val_idx]\n",
    "\n",
    "    # Prepare data\n",
    "    X_train_categorical = X_train[cat_features].values.astype(np.int64)\n",
    "    X_val_categorical = X_val[cat_features].values.astype(np.int64)\n",
    "    X_train_numerical = X_train[num_features].values.astype(np.float32)\n",
    "    X_val_numerical = X_val[num_features].values.astype(np.float32)\n",
    "\n",
    "    y_train_values = y_train.values.astype(np.float32)\n",
    "    y_val_values = y_val.values.astype(np.float32)\n",
    "\n",
    "    train_dataset = TabularDataset(X_train_categorical, X_train_numerical, y_train_values)\n",
    "    val_dataset = TabularDataset(X_val_categorical, X_val_numerical, y_val_values)\n",
    "\n",
    "    train_loader = torch.utils.data.DataLoader(train_dataset, batch_size=256, shuffle=True)\n",
    "    val_loader = torch.utils.data.DataLoader(val_dataset, batch_size=256, shuffle=False)\n",
    "\n",
    "    # Initialize model\n",
    "    model = MultiTargetRegressionModel(embedding_sizes, num_numerical_features, output_size)\n",
    "    model = model.to(device)\n",
    "\n",
    "    # Define loss and optimizer\n",
    "    criterion = nn.MSELoss()\n",
    "    optimizer = torch.optim.Adam(model.parameters(), lr=0.001)\n",
    "\n",
    "    num_epochs = 1 if IS_TEST else 100\n",
    "    best_val_loss = np.inf\n",
    "    patience = 10\n",
    "    counter = 0\n",
    "    best_model_state = None\n",
    "\n",
    "    # Training loop\n",
    "    for epoch in range(num_epochs):\n",
    "        model.train()\n",
    "        train_losses = []\n",
    "        for X_cat_batch, X_num_batch, y_batch in train_loader:\n",
    "            X_cat_batch = X_cat_batch.to(device)\n",
    "            X_num_batch = X_num_batch.to(device)\n",
    "            y_batch = y_batch.to(device)\n",
    "\n",
    "            optimizer.zero_grad()\n",
    "            outputs = model(X_cat_batch, X_num_batch)\n",
    "            loss = criterion(outputs, y_batch)\n",
    "            loss.backward()\n",
    "            optimizer.step()\n",
    "            train_losses.append(loss.item())\n",
    "\n",
    "        # Validation\n",
    "        model.eval()\n",
    "        val_losses = []\n",
    "        with torch.no_grad():\n",
    "            for X_cat_batch, X_num_batch, y_batch in val_loader:\n",
    "                X_cat_batch = X_cat_batch.to(device)\n",
    "                X_num_batch = X_num_batch.to(device)\n",
    "                y_batch = y_batch.to(device)\n",
    "\n",
    "                outputs = model(X_cat_batch, X_num_batch)\n",
    "                loss = criterion(outputs, y_batch)\n",
    "                val_losses.append(loss.item())\n",
    "\n",
    "        train_loss = np.mean(train_losses)\n",
    "        val_loss = np.mean(val_losses)\n",
    "\n",
    "        print(f\"Epoch {epoch + 1}/{num_epochs}, Train Loss: {train_loss:.4f}, Val Loss: {val_loss:.4f}\")\n",
    "\n",
    "        # Early stopping\n",
    "        if val_loss < best_val_loss:\n",
    "            best_val_loss = val_loss\n",
    "            best_model_state = model.state_dict()\n",
    "            counter = 0\n",
    "        else:\n",
    "            counter += 1\n",
    "            if counter >= patience:\n",
    "                print(\"Early stopping\")\n",
    "                break\n",
    "\n",
    "    if best_model_state is None:\n",
    "        print(\"No valid model was trained in this fold due to NaNs.\")\n",
    "        continue\n",
    "\n",
    "    model.load_state_dict(best_model_state)\n",
    "    models.append(model)\n",
    "\n",
    "    # Predictions on validation set\n",
    "    model.eval()\n",
    "    val_preds = []\n",
    "    with torch.no_grad():\n",
    "        for X_cat_batch, X_num_batch, y_batch in val_loader:\n",
    "            X_cat_batch = X_cat_batch.to(device)\n",
    "            X_num_batch = X_num_batch.to(device)\n",
    "            outputs = model(X_cat_batch, X_num_batch)\n",
    "            val_preds.append(outputs.cpu().numpy())\n",
    "    val_preds = np.vstack(val_preds)\n",
    "\n",
    "    y_pred[val_idx] = val_preds"
   ]
  },
  {
   "cell_type": "markdown",
   "id": "943b3d5f",
   "metadata": {
    "papermill": {
     "duration": 0.023118,
     "end_time": "2024-09-22T01:16:36.546505",
     "exception": false,
     "start_time": "2024-09-22T01:16:36.523387",
     "status": "completed"
    },
    "tags": []
   },
   "source": [
    "## Training Process Explanation:\n",
    "\n",
    "* We perform 5-fold cross-validation to evaluate the model's performance.\n",
    "* Early stopping is used to prevent overfitting.\n",
    "* The model predicts all target variables simultaneously.\n",
    "\n",
    "## LightGBM Model\n",
    "\n",
    "We also train a LightGBM model to predict 'PCIAT-PCIAT_Total'.\n",
    "\n",
    "### Defining LightGBM Parameters"
   ]
  },
  {
   "cell_type": "code",
   "execution_count": 20,
   "id": "26e62bcc",
   "metadata": {
    "execution": {
     "iopub.execute_input": "2024-09-22T01:16:36.596248Z",
     "iopub.status.busy": "2024-09-22T01:16:36.595521Z",
     "iopub.status.idle": "2024-09-22T01:16:36.601947Z",
     "shell.execute_reply": "2024-09-22T01:16:36.600783Z"
    },
    "papermill": {
     "duration": 0.03416,
     "end_time": "2024-09-22T01:16:36.604359",
     "exception": false,
     "start_time": "2024-09-22T01:16:36.570199",
     "status": "completed"
    },
    "tags": []
   },
   "outputs": [],
   "source": [
    "lgb_params = {\n",
    "    'objective': 'regression',\n",
    "    'metric': 'rmse',\n",
    "    'verbosity': -1,\n",
    "    'boosting_type': 'gbdt',\n",
    "    'n_jobs': -1,\n",
    "    'seed': SEED,\n",
    "}"
   ]
  },
  {
   "cell_type": "markdown",
   "id": "0859ef5f",
   "metadata": {
    "papermill": {
     "duration": 0.022994,
     "end_time": "2024-09-22T01:16:36.650917",
     "exception": false,
     "start_time": "2024-09-22T01:16:36.627923",
     "status": "completed"
    },
    "tags": []
   },
   "source": [
    "## Training the LightGBM Model"
   ]
  },
  {
   "cell_type": "code",
   "execution_count": 21,
   "id": "dabbe3d3",
   "metadata": {
    "execution": {
     "iopub.execute_input": "2024-09-22T01:16:36.700771Z",
     "iopub.status.busy": "2024-09-22T01:16:36.700330Z",
     "iopub.status.idle": "2024-09-22T01:16:38.029382Z",
     "shell.execute_reply": "2024-09-22T01:16:38.027729Z"
    },
    "papermill": {
     "duration": 1.357162,
     "end_time": "2024-09-22T01:16:38.032152",
     "exception": false,
     "start_time": "2024-09-22T01:16:36.674990",
     "status": "completed"
    },
    "tags": []
   },
   "outputs": [
    {
     "name": "stdout",
     "output_type": "stream",
     "text": [
      "LightGBM Fold 1\n",
      "Training until validation scores don't improve for 50 rounds\n",
      "Early stopping, best iteration is:\n",
      "[34]\ttraining's rmse: 12.3756\tvalid_1's rmse: 17.5933\n",
      "LightGBM Fold 2\n",
      "Training until validation scores don't improve for 50 rounds\n",
      "Early stopping, best iteration is:\n",
      "[25]\ttraining's rmse: 13.7843\tvalid_1's rmse: 16.9011\n",
      "LightGBM Fold 3\n",
      "Training until validation scores don't improve for 50 rounds\n",
      "Early stopping, best iteration is:\n",
      "[29]\ttraining's rmse: 13.15\tvalid_1's rmse: 16.9913\n",
      "LightGBM Fold 4\n",
      "Training until validation scores don't improve for 50 rounds\n",
      "Early stopping, best iteration is:\n",
      "[22]\ttraining's rmse: 13.9273\tvalid_1's rmse: 17.2618\n",
      "LightGBM Fold 5\n",
      "Training until validation scores don't improve for 50 rounds\n",
      "Early stopping, best iteration is:\n",
      "[22]\ttraining's rmse: 13.8964\tvalid_1's rmse: 17.4171\n"
     ]
    }
   ],
   "source": [
    "categorical_feature_indices = [X.columns.get_loc(col) for col in cat_features]\n",
    "\n",
    "models_lgb = []\n",
    "y_pred_lgb = np.full((X.shape[0],), fill_value=np.nan)\n",
    "\n",
    "for fold, (train_idx, val_idx) in enumerate(skf.split(X, y_sii)):\n",
    "    print(f\"LightGBM Fold {fold + 1}\")\n",
    "    X_train, X_val = X.iloc[train_idx], X.iloc[val_idx]\n",
    "    y_train, y_val = y_total[train_idx], y_total[val_idx]\n",
    "\n",
    "    train_data = lgb.Dataset(X_train, label=y_train, categorical_feature=categorical_feature_indices)\n",
    "    val_data = lgb.Dataset(X_val, label=y_val, categorical_feature=categorical_feature_indices)\n",
    "\n",
    "    model = lgb.train(\n",
    "        params=lgb_params,\n",
    "        train_set=train_data,\n",
    "        num_boost_round=1000,\n",
    "        valid_sets=[train_data, val_data],\n",
    "        callbacks=[early_stopping(stopping_rounds=50), log_evaluation(100)],\n",
    "    )\n",
    "    models_lgb.append(model)\n",
    "    y_pred_lgb[val_idx] = model.predict(X_val, num_iteration=model.best_iteration)"
   ]
  },
  {
   "cell_type": "markdown",
   "id": "fa894d85",
   "metadata": {
    "papermill": {
     "duration": 0.023599,
     "end_time": "2024-09-22T01:16:38.081083",
     "exception": false,
     "start_time": "2024-09-22T01:16:38.057484",
     "status": "completed"
    },
    "tags": []
   },
   "source": [
    "## Training Process Explanation:\n",
    "\n",
    "* We perform 5-fold cross-validation.\n",
    "* Early stopping is used based on validation loss.\n",
    "* Categorical features are specified for LightGBM to handle them internally.\n",
    "\n",
    "## Model Evaluation and Optimization\n",
    "\n",
    "### Combining Neural Network and LightGBM Predictions\n",
    "\n",
    "We aim to combine the predictions from both models to improve performance.\n",
    "\n",
    "### Defining an Optimizer for Thresholds"
   ]
  },
  {
   "cell_type": "code",
   "execution_count": 22,
   "id": "8073f50f",
   "metadata": {
    "execution": {
     "iopub.execute_input": "2024-09-22T01:16:38.130923Z",
     "iopub.status.busy": "2024-09-22T01:16:38.130458Z",
     "iopub.status.idle": "2024-09-22T01:16:38.146425Z",
     "shell.execute_reply": "2024-09-22T01:16:38.145254Z"
    },
    "papermill": {
     "duration": 0.043931,
     "end_time": "2024-09-22T01:16:38.149069",
     "exception": false,
     "start_time": "2024-09-22T01:16:38.105138",
     "status": "completed"
    },
    "tags": []
   },
   "outputs": [],
   "source": [
    "class OptimizedRounder:\n",
    "    \"\"\"\n",
    "    Optimizes rounding of continuous predictions into discrete class labels by maximizing\n",
    "    the Quadratic Weighted Kappa (QWK) score using Optuna optimization.\n",
    "    \"\"\"\n",
    "\n",
    "    def __init__(self, n_classes: int, n_trials: int = 100):\n",
    "        self.n_classes = n_classes\n",
    "        self.labels = np.arange(n_classes)\n",
    "        self.n_trials = n_trials\n",
    "        self.metric = partial(cohen_kappa_score, weights=\"quadratic\")\n",
    "\n",
    "    def fit(self, y_pred: np.ndarray, y_true: np.ndarray) -> None:\n",
    "        y_pred = self._normalize(y_pred)\n",
    "\n",
    "        def objective(trial: optuna.Trial) -> float:\n",
    "            thresholds = []\n",
    "            for i in range(self.n_classes - 1):\n",
    "                low = thresholds[-1] if i > 0 else y_pred.min()\n",
    "                high = y_pred.max()\n",
    "                th = trial.suggest_float(f\"threshold_{i}\", low, high)\n",
    "                thresholds.append(th)\n",
    "            try:\n",
    "                y_pred_rounded = np.digitize(y_pred, thresholds)\n",
    "            except ValueError:\n",
    "                return -100\n",
    "            return self.metric(y_true, y_pred_rounded)\n",
    "\n",
    "        optuna.logging.disable_default_handler()\n",
    "        study = optuna.create_study(direction=\"maximize\")\n",
    "\n",
    "        with np.errstate(invalid='ignore'):\n",
    "            study.optimize(objective, n_trials=self.n_trials)\n",
    "\n",
    "        self.thresholds = [study.best_params[f\"threshold_{i}\"] for i in range(self.n_classes - 1)]\n",
    "\n",
    "    def predict(self, y_pred: np.ndarray) -> np.ndarray:\n",
    "        assert hasattr(self, \"thresholds\"), \"You must call fit() before predict()\"\n",
    "        y_pred = self._normalize(y_pred)\n",
    "        return np.digitize(y_pred, self.thresholds)\n",
    "\n",
    "    def _normalize(self, y: np.ndarray) -> np.ndarray:\n",
    "        return (y - y.min()) / (y.max() - y.min()) * (self.n_classes - 1)"
   ]
  },
  {
   "cell_type": "markdown",
   "id": "6d728317",
   "metadata": {
    "papermill": {
     "duration": 0.023527,
     "end_time": "2024-09-22T01:16:38.196890",
     "exception": false,
     "start_time": "2024-09-22T01:16:38.173363",
     "status": "completed"
    },
    "tags": []
   },
   "source": [
    "## Optimizing the Weights for Combining Models"
   ]
  },
  {
   "cell_type": "code",
   "execution_count": 23,
   "id": "72a86b43",
   "metadata": {
    "execution": {
     "iopub.execute_input": "2024-09-22T01:16:38.246249Z",
     "iopub.status.busy": "2024-09-22T01:16:38.245775Z",
     "iopub.status.idle": "2024-09-22T01:18:28.153490Z",
     "shell.execute_reply": "2024-09-22T01:18:28.152182Z"
    },
    "papermill": {
     "duration": 109.958681,
     "end_time": "2024-09-22T01:18:28.179339",
     "exception": false,
     "start_time": "2024-09-22T01:16:38.220658",
     "status": "completed"
    },
    "tags": []
   },
   "outputs": [
    {
     "name": "stderr",
     "output_type": "stream",
     "text": [
      "[I 2024-09-22 01:16:38,252] A new study created in memory with name: no-name-741c58b2-6411-4e27-8bae-198538e9029b\n"
     ]
    },
    {
     "name": "stdout",
     "output_type": "stream",
     "text": [
      "Best weight: 0.5203894833591781, Best QWK: 0.46755477671949075\n",
      "Optimized weight for neural network: 0.5203894833591781\n"
     ]
    }
   ],
   "source": [
    "def optimize_weights(y_true, y_pred_nn, y_pred_lgb):\n",
    "    def objective(trial):\n",
    "        w_nn = trial.suggest_float('w_nn', 0.0, 1.0)\n",
    "        y_pred_combined = w_nn * y_pred_nn + (1 - w_nn) * y_pred_lgb\n",
    "        optimizer_rounder = OptimizedRounder(n_classes=4, n_trials=100)\n",
    "        optimizer_rounder.fit(y_pred_combined, y_true)\n",
    "        y_pred_rounded = optimizer_rounder.predict(y_pred_combined)\n",
    "        qwk = cohen_kappa_score(y_true, y_pred_rounded, weights=\"quadratic\")\n",
    "        return qwk\n",
    "\n",
    "    study = optuna.create_study(direction='maximize')\n",
    "    study.optimize(objective, n_trials=50)\n",
    "    best_weight = study.best_params['w_nn']\n",
    "    best_qwk = study.best_value\n",
    "    print(f\"Best weight: {best_weight}, Best QWK: {best_qwk}\")\n",
    "    return best_weight\n",
    "\n",
    "# Combine predictions\n",
    "y_pred_total = y_pred[:, TARGET_COLS.index(\"PCIAT-PCIAT_Total\")]\n",
    "best_weight = optimize_weights(y_sii, y_pred_total, y_pred_lgb)\n",
    "print(f\"Optimized weight for neural network: {best_weight}\")"
   ]
  },
  {
   "cell_type": "markdown",
   "id": "36ff5d1d",
   "metadata": {
    "papermill": {
     "duration": 0.023839,
     "end_time": "2024-09-22T01:18:28.227654",
     "exception": false,
     "start_time": "2024-09-22T01:18:28.203815",
     "status": "completed"
    },
    "tags": []
   },
   "source": [
    "## Model Evaluation"
   ]
  },
  {
   "cell_type": "code",
   "execution_count": 24,
   "id": "49753c51",
   "metadata": {
    "execution": {
     "iopub.execute_input": "2024-09-22T01:18:28.278135Z",
     "iopub.status.busy": "2024-09-22T01:18:28.277654Z",
     "iopub.status.idle": "2024-09-22T01:18:32.742958Z",
     "shell.execute_reply": "2024-09-22T01:18:32.741912Z"
    },
    "papermill": {
     "duration": 4.49425,
     "end_time": "2024-09-22T01:18:32.745937",
     "exception": false,
     "start_time": "2024-09-22T01:18:28.251687",
     "status": "completed"
    },
    "tags": []
   },
   "outputs": [
    {
     "name": "stdout",
     "output_type": "stream",
     "text": [
      "Neural Network QWK Score: 0.42702471992194246\n",
      "LightGBM QWK Score: 0.45413066594254625\n"
     ]
    }
   ],
   "source": [
    "# Calculate QWK score for the neural network model predictions\n",
    "optimizer_rounder_nn = OptimizedRounder(n_classes=4, n_trials=100)\n",
    "optimizer_rounder_nn.fit(y_pred_total, y_sii)\n",
    "y_pred_nn_rounded = optimizer_rounder_nn.predict(y_pred_total)\n",
    "qwk_nn = cohen_kappa_score(y_sii, y_pred_nn_rounded, weights=\"quadratic\")\n",
    "print(f\"Neural Network QWK Score: {qwk_nn}\")\n",
    "\n",
    "# Calculate QWK score for the LightGBM model predictions\n",
    "optimizer_rounder_lgb = OptimizedRounder(n_classes=4, n_trials=100)\n",
    "optimizer_rounder_lgb.fit(y_pred_lgb, y_sii)\n",
    "y_pred_lgb_rounded = optimizer_rounder_lgb.predict(y_pred_lgb)\n",
    "qwk_lgb = cohen_kappa_score(y_sii, y_pred_lgb_rounded, weights=\"quadratic\")\n",
    "print(f\"LightGBM QWK Score: {qwk_lgb}\")"
   ]
  },
  {
   "cell_type": "markdown",
   "id": "5cae918f",
   "metadata": {
    "papermill": {
     "duration": 0.023923,
     "end_time": "2024-09-22T01:18:32.794140",
     "exception": false,
     "start_time": "2024-09-22T01:18:32.770217",
     "status": "completed"
    },
    "tags": []
   },
   "source": [
    "We can see that the two models have similar accuracy. We will combine them to create an ensemble model, weighting their votes based on how accurate they were.\n",
    "\n",
    "## Evaluating the Combined Model"
   ]
  },
  {
   "cell_type": "code",
   "execution_count": 25,
   "id": "31a7e68b",
   "metadata": {
    "execution": {
     "iopub.execute_input": "2024-09-22T01:18:32.844703Z",
     "iopub.status.busy": "2024-09-22T01:18:32.844269Z",
     "iopub.status.idle": "2024-09-22T01:18:40.990521Z",
     "shell.execute_reply": "2024-09-22T01:18:40.989055Z"
    },
    "papermill": {
     "duration": 8.174649,
     "end_time": "2024-09-22T01:18:40.993136",
     "exception": false,
     "start_time": "2024-09-22T01:18:32.818487",
     "status": "completed"
    },
    "tags": []
   },
   "outputs": [
    {
     "name": "stdout",
     "output_type": "stream",
     "text": [
      "Optimized Combined Models QWK Score: 0.46366535609728843\n"
     ]
    }
   ],
   "source": [
    "y_pred_combined_total = best_weight * y_pred_total + (1 - best_weight) * y_pred_lgb\n",
    "\n",
    "optimizer_rounder = OptimizedRounder(n_classes=4, n_trials=300)\n",
    "optimizer_rounder.fit(y_pred_combined_total, y_sii)\n",
    "y_pred_combined_rounded = optimizer_rounder.predict(y_pred_combined_total)\n",
    "\n",
    "qwk_combined = cohen_kappa_score(y_sii, y_pred_combined_rounded, weights=\"quadratic\")\n",
    "print(f\"Optimized Combined Models QWK Score: {qwk_combined}\")"
   ]
  },
  {
   "cell_type": "markdown",
   "id": "41cb255a",
   "metadata": {
    "papermill": {
     "duration": 0.024634,
     "end_time": "2024-09-22T01:18:41.042491",
     "exception": false,
     "start_time": "2024-09-22T01:18:41.017857",
     "status": "completed"
    },
    "tags": []
   },
   "source": [
    "Results:\n",
    "\n",
    "* The optimized weight for combining models is determined.\n",
    "* The combined model achieves a Quadratic Weighted Kappa (QWK) score of approximately ~0.46\n",
    "\n",
    "# Making Predictions on the Test Set"
   ]
  },
  {
   "cell_type": "code",
   "execution_count": 26,
   "id": "86e89776",
   "metadata": {
    "execution": {
     "iopub.execute_input": "2024-09-22T01:18:41.093179Z",
     "iopub.status.busy": "2024-09-22T01:18:41.092709Z",
     "iopub.status.idle": "2024-09-22T01:18:41.130954Z",
     "shell.execute_reply": "2024-09-22T01:18:41.129869Z"
    },
    "papermill": {
     "duration": 0.066922,
     "end_time": "2024-09-22T01:18:41.133764",
     "exception": false,
     "start_time": "2024-09-22T01:18:41.066842",
     "status": "completed"
    },
    "tags": []
   },
   "outputs": [],
   "source": [
    "# Prepare test data for neural network\n",
    "X_test_categorical = X_test[cat_features].values.astype(np.int64)\n",
    "X_test_numerical = X_test[num_features].values.astype(np.float32)\n",
    "\n",
    "# Ensure no NaNs in test data\n",
    "assert not np.isnan(X_test_numerical).any(), \"NaNs found in X_test_numerical\"\n",
    "assert not np.isnan(X_test_categorical).any(), \"NaNs found in X_test_categorical\"\n",
    "\n",
    "test_dataset = TabularDataset(X_test_categorical, X_test_numerical)\n",
    "test_loader = torch.utils.data.DataLoader(test_dataset, batch_size=256, shuffle=False)\n",
    "\n",
    "# Neural network predictions\n",
    "test_preds_list = []\n",
    "for model in models:\n",
    "    model.eval()\n",
    "    test_preds = []\n",
    "    with torch.no_grad():\n",
    "        for X_cat_batch, X_num_batch in test_loader:\n",
    "            X_cat_batch = X_cat_batch.to(device)\n",
    "            X_num_batch = X_num_batch.to(device)\n",
    "            outputs = model(X_cat_batch, X_num_batch)\n",
    "            test_preds.append(outputs.cpu().numpy())\n",
    "    test_preds = np.vstack(test_preds)\n",
    "    test_preds_list.append(test_preds)\n",
    "\n",
    "test_preds_mean = np.mean(test_preds_list, axis=0)\n",
    "test_pred_total = test_preds_mean[:, TARGET_COLS.index(\"PCIAT-PCIAT_Total\")]\n",
    "\n",
    "# LightGBM test predictions\n",
    "test_preds_lgb_list = []\n",
    "for model in models_lgb:\n",
    "    test_preds_lgb = model.predict(X_test, num_iteration=model.best_iteration)\n",
    "    test_preds_lgb_list.append(test_preds_lgb)\n",
    "\n",
    "test_preds_lgb_mean = np.mean(test_preds_lgb_list, axis=0)\n",
    "\n",
    "# Combine test predictions\n",
    "test_pred_combined_total = (best_weight * test_pred_total + (1 - best_weight) * test_preds_lgb_mean)\n",
    "test_pred_combined_rounded = optimizer_rounder.predict(test_pred_combined_total)"
   ]
  },
  {
   "cell_type": "markdown",
   "id": "43adde1d",
   "metadata": {
    "papermill": {
     "duration": 0.02412,
     "end_time": "2024-09-22T01:18:41.182291",
     "exception": false,
     "start_time": "2024-09-22T01:18:41.158171",
     "status": "completed"
    },
    "tags": []
   },
   "source": [
    "# Submission"
   ]
  },
  {
   "cell_type": "code",
   "execution_count": 27,
   "id": "bba68e97",
   "metadata": {
    "execution": {
     "iopub.execute_input": "2024-09-22T01:18:41.233339Z",
     "iopub.status.busy": "2024-09-22T01:18:41.232482Z",
     "iopub.status.idle": "2024-09-22T01:18:41.246631Z",
     "shell.execute_reply": "2024-09-22T01:18:41.245523Z"
    },
    "papermill": {
     "duration": 0.042785,
     "end_time": "2024-09-22T01:18:41.249220",
     "exception": false,
     "start_time": "2024-09-22T01:18:41.206435",
     "status": "completed"
    },
    "tags": []
   },
   "outputs": [],
   "source": [
    "# Prepare submission file\n",
    "submission = test.select(\"id\").to_pandas()\n",
    "submission[\"sii\"] = test_pred_combined_rounded\n",
    "submission.to_csv(\"submission.csv\", index=False)"
   ]
  },
  {
   "cell_type": "markdown",
   "id": "5f5e2757",
   "metadata": {
    "papermill": {
     "duration": 0.023878,
     "end_time": "2024-09-22T01:18:41.297431",
     "exception": false,
     "start_time": "2024-09-22T01:18:41.273553",
     "status": "completed"
    },
    "tags": []
   },
   "source": [
    "# Conclusions\n",
    "\n",
    "* We successfully developed a predictive model combining a neural network and a LightGBM model.\n",
    "* The optimized combined model achieved a QWK score of approximately ~0.46 on the validation set.\n",
    "* The use of embedding layers for categorical features and combining models helped improve performance.\n",
    "* Future work could include hyperparameter tuning, feature engineering, and exploring alternative models to further improve results."
   ]
  }
 ],
 "metadata": {
  "kaggle": {
   "accelerator": "none",
   "dataSources": [
    {
     "databundleVersionId": 9643020,
     "sourceId": 81933,
     "sourceType": "competition"
    }
   ],
   "dockerImageVersionId": 30761,
   "isGpuEnabled": false,
   "isInternetEnabled": false,
   "language": "python",
   "sourceType": "notebook"
  },
  "kernelspec": {
   "display_name": "Python 3",
   "language": "python",
   "name": "python3"
  },
  "language_info": {
   "codemirror_mode": {
    "name": "ipython",
    "version": 3
   },
   "file_extension": ".py",
   "mimetype": "text/x-python",
   "name": "python",
   "nbconvert_exporter": "python",
   "pygments_lexer": "ipython3",
   "version": "3.10.14"
  },
  "papermill": {
   "default_parameters": {},
   "duration": 156.54529,
   "end_time": "2024-09-22T01:18:42.846501",
   "environment_variables": {},
   "exception": null,
   "input_path": "__notebook__.ipynb",
   "output_path": "__notebook__.ipynb",
   "parameters": {},
   "start_time": "2024-09-22T01:16:06.301211",
   "version": "2.6.0"
  }
 },
 "nbformat": 4,
 "nbformat_minor": 5
}
